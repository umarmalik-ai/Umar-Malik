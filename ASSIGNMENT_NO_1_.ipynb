{
  "nbformat": 4,
  "nbformat_minor": 0,
  "metadata": {
    "colab": {
      "name": "ASSIGNMENT NO 1 .ipynb",
      "provenance": []
    },
    "kernelspec": {
      "name": "python3",
      "display_name": "Python 3"
    }
  },
  "cells": [
    {
      "cell_type": "code",
      "metadata": {
        "id": "9H8qjF0WLPLZ",
        "colab_type": "code",
        "colab": {
          "base_uri": "https://localhost:8080/",
          "height": 34
        },
        "outputId": "be780325-e135-43a7-a127-6547c01ad044"
      },
      "source": [
        "print('umar malik')"
      ],
      "execution_count": 1,
      "outputs": [
        {
          "output_type": "stream",
          "text": [
            "umar malik\n"
          ],
          "name": "stdout"
        }
      ]
    },
    {
      "cell_type": "code",
      "metadata": {
        "id": "8cJmTeOuLxw9",
        "colab_type": "code",
        "colab": {
          "base_uri": "https://localhost:8080/",
          "height": 51
        },
        "outputId": "a50f55c6-2b16-48ab-f3bf-e4a77747c062"
      },
      "source": [
        "a = \"umar malik\"\n",
        "print (a)\n",
        "print(a.capitalize())"
      ],
      "execution_count": 2,
      "outputs": [
        {
          "output_type": "stream",
          "text": [
            "umar malik\n",
            "Umar malik\n"
          ],
          "name": "stdout"
        }
      ]
    },
    {
      "cell_type": "code",
      "metadata": {
        "id": "TeYmVDpDMwrK",
        "colab_type": "code",
        "colab": {
          "base_uri": "https://localhost:8080/",
          "height": 51
        },
        "outputId": "61130289-2492-4f88-aedb-0f2acae02f84"
      },
      "source": [
        "a = \"Umar Malik\"\n",
        "print (a)\n",
        "print(a.casefold())"
      ],
      "execution_count": 3,
      "outputs": [
        {
          "output_type": "stream",
          "text": [
            "Umar Malik\n",
            "umar malik\n"
          ],
          "name": "stdout"
        }
      ]
    },
    {
      "cell_type": "code",
      "metadata": {
        "id": "VVLuzc4PM4pD",
        "colab_type": "code",
        "colab": {
          "base_uri": "https://localhost:8080/",
          "height": 51
        },
        "outputId": "7503c9f1-f198-49b9-b691-010c97319ec5"
      },
      "source": [
        "a = \"umar malik\"\n",
        "print (a)\n",
        "print(a.center(50))"
      ],
      "execution_count": 4,
      "outputs": [
        {
          "output_type": "stream",
          "text": [
            "umar malik\n",
            "                    umar malik                    \n"
          ],
          "name": "stdout"
        }
      ]
    },
    {
      "cell_type": "code",
      "metadata": {
        "id": "2tNMSBaoM_vs",
        "colab_type": "code",
        "colab": {
          "base_uri": "https://localhost:8080/",
          "height": 51
        },
        "outputId": "63576a84-350b-445e-d73a-56eef57c9cc3"
      },
      "source": [
        "a = [1,1,1,1,4,2,4,55,6,7]\n",
        "print (a)\n",
        "print(a.count(1))"
      ],
      "execution_count": 5,
      "outputs": [
        {
          "output_type": "stream",
          "text": [
            "[1, 1, 1, 1, 4, 2, 4, 55, 6, 7]\n",
            "4\n"
          ],
          "name": "stdout"
        }
      ]
    },
    {
      "cell_type": "code",
      "metadata": {
        "id": "CmFPmiL7NFgR",
        "colab_type": "code",
        "colab": {
          "base_uri": "https://localhost:8080/",
          "height": 51
        },
        "outputId": "34c65491-b22a-4ab9-f267-bdc7302061cb"
      },
      "source": [
        "a = \"umar_malik\"\n",
        "print (a)\n",
        "print(a.encode())"
      ],
      "execution_count": 6,
      "outputs": [
        {
          "output_type": "stream",
          "text": [
            "umar_malik\n",
            "b'umar_malik'\n"
          ],
          "name": "stdout"
        }
      ]
    },
    {
      "cell_type": "code",
      "metadata": {
        "id": "oHXLCT2FNNrg",
        "colab_type": "code",
        "colab": {
          "base_uri": "https://localhost:8080/",
          "height": 51
        },
        "outputId": "df038632-092c-4342-c96c-ee67c6647188"
      },
      "source": [
        "str = \"My name is umar malik!!\"\n",
        "suffix = \"malik!!\"\n",
        "print (str)\n",
        "print (str.endswith(suffix))"
      ],
      "execution_count": 7,
      "outputs": [
        {
          "output_type": "stream",
          "text": [
            "My name is umar malik!!\n",
            "True\n"
          ],
          "name": "stdout"
        }
      ]
    },
    {
      "cell_type": "code",
      "metadata": {
        "id": "EZh43sDTNXko",
        "colab_type": "code",
        "colab": {
          "base_uri": "https://localhost:8080/",
          "height": 51
        },
        "outputId": "a5c50364-55be-4ea0-dad5-969e40e57107"
      },
      "source": [
        "str = 'xyz\\t12345\\tabc'\n",
        "print(str)\n",
        "print(str.expandtabs(16))"
      ],
      "execution_count": 8,
      "outputs": [
        {
          "output_type": "stream",
          "text": [
            "xyz\t12345\tabc\n",
            "xyz             12345           abc\n"
          ],
          "name": "stdout"
        }
      ]
    },
    {
      "cell_type": "code",
      "metadata": {
        "id": "nbDd26QHNgm6",
        "colab_type": "code",
        "colab": {
          "base_uri": "https://localhost:8080/",
          "height": 85
        },
        "outputId": "e7b56e5d-0a33-4d0d-814c-53a02278092d"
      },
      "source": [
        "s = 'abcd1234dcba'\n",
        "\n",
        "print(s.find('1234')) \n",
        "print(s.find('234'))\n",
        "print(s.find('34'))\n",
        "print(s.find('4'))"
      ],
      "execution_count": 9,
      "outputs": [
        {
          "output_type": "stream",
          "text": [
            "4\n",
            "5\n",
            "6\n",
            "7\n"
          ],
          "name": "stdout"
        }
      ]
    },
    {
      "cell_type": "code",
      "metadata": {
        "id": "Hh_8ot1DNkmr",
        "colab_type": "code",
        "colab": {
          "base_uri": "https://localhost:8080/",
          "height": 85
        },
        "outputId": "e98c5b4d-e29f-45d1-ab4c-8c6d60a8370c"
      },
      "source": [
        "str = \"my name is {}\"\n",
        "print (str.format(\"umar\"))\n",
        "\n",
        "str = \"my age is {}\"\n",
        "print(\"type your age!\")\n",
        "age = input()\n",
        "print (str.format(age))"
      ],
      "execution_count": 10,
      "outputs": [
        {
          "output_type": "stream",
          "text": [
            "my name is umar\n",
            "type your age!\n",
            "21\n",
            "my age is 21\n"
          ],
          "name": "stdout"
        }
      ]
    },
    {
      "cell_type": "code",
      "metadata": {
        "id": "lvZiEqiKNvDe",
        "colab_type": "code",
        "colab": {
          "base_uri": "https://localhost:8080/",
          "height": 34
        },
        "outputId": "2df85062-698b-4a93-f64b-a8c940ad9d33"
      },
      "source": [
        "point = {'x':4,'y':-5}\n",
        "print('{x} {y}'.format_map(point))"
      ],
      "execution_count": 11,
      "outputs": [
        {
          "output_type": "stream",
          "text": [
            "4 -5\n"
          ],
          "name": "stdout"
        }
      ]
    },
    {
      "cell_type": "code",
      "metadata": {
        "id": "2jRJZk5iN6Ij",
        "colab_type": "code",
        "colab": {
          "base_uri": "https://localhost:8080/",
          "height": 34
        },
        "outputId": "0d10e3cf-f2c0-4314-f738-2aa0fad22f56"
      },
      "source": [
        "vowels = ['a', 'e', 'i', 'o', 'i', 'u']\n",
        "# index of 'e'\n",
        "index = vowels.index('e')\n",
        "print('The index of e:', index)"
      ],
      "execution_count": 12,
      "outputs": [
        {
          "output_type": "stream",
          "text": [
            "The index of e: 1\n"
          ],
          "name": "stdout"
        }
      ]
    },
    {
      "cell_type": "code",
      "metadata": {
        "id": "2QlG4NcROAkh",
        "colab_type": "code",
        "colab": {
          "base_uri": "https://localhost:8080/",
          "height": 34
        },
        "outputId": "550646e9-65ec-4676-9d1a-c00900024e70"
      },
      "source": [
        "str = \"aeiou\"\n",
        "print(str.isalnum())"
      ],
      "execution_count": 13,
      "outputs": [
        {
          "output_type": "stream",
          "text": [
            "True\n"
          ],
          "name": "stdout"
        }
      ]
    },
    {
      "cell_type": "code",
      "metadata": {
        "id": "_QWTS0thODzi",
        "colab_type": "code",
        "colab": {
          "base_uri": "https://localhost:8080/",
          "height": 34
        },
        "outputId": "c83807a9-f233-41e8-8fca-855a9b634c58"
      },
      "source": [
        "str = \"aeiou\"\n",
        "print(str.isalpha())"
      ],
      "execution_count": 14,
      "outputs": [
        {
          "output_type": "stream",
          "text": [
            "True\n"
          ],
          "name": "stdout"
        }
      ]
    },
    {
      "cell_type": "code",
      "metadata": {
        "id": "zNNJaneDOJe7",
        "colab_type": "code",
        "colab": {
          "base_uri": "https://localhost:8080/",
          "height": 34
        },
        "outputId": "51aa34e0-cc5f-4eef-d60d-831ebadcc1b7"
      },
      "source": [
        "str = \"456879\"\n",
        "print(str.isdecimal())"
      ],
      "execution_count": 15,
      "outputs": [
        {
          "output_type": "stream",
          "text": [
            "True\n"
          ],
          "name": "stdout"
        }
      ]
    },
    {
      "cell_type": "code",
      "metadata": {
        "id": "3u_wgWSkOPDp",
        "colab_type": "code",
        "colab": {
          "base_uri": "https://localhost:8080/",
          "height": 34
        },
        "outputId": "4b143e5e-5cd3-4683-eceb-31a2b1b35a61"
      },
      "source": [
        "str = \"456879\"\n",
        "print(str.isdigit())"
      ],
      "execution_count": 17,
      "outputs": [
        {
          "output_type": "stream",
          "text": [
            "True\n"
          ],
          "name": "stdout"
        }
      ]
    },
    {
      "cell_type": "code",
      "metadata": {
        "id": "u57fmPYLOSiz",
        "colab_type": "code",
        "colab": {
          "base_uri": "https://localhost:8080/",
          "height": 51
        },
        "outputId": "beabe1cd-0575-47fa-92b1-d90c1a106058"
      },
      "source": [
        "str = \"validString\"\n",
        "print(str.isidentifier())\n",
        "\n",
        "str = \"IN validString\"\n",
        "print(str.isidentifier())"
      ],
      "execution_count": 18,
      "outputs": [
        {
          "output_type": "stream",
          "text": [
            "True\n",
            "False\n"
          ],
          "name": "stdout"
        }
      ]
    },
    {
      "cell_type": "code",
      "metadata": {
        "id": "MOS1x3dnOaNW",
        "colab_type": "code",
        "colab": {
          "base_uri": "https://localhost:8080/",
          "height": 34
        },
        "outputId": "35074297-9499-4cd8-cc1c-cd04acdc0f9a"
      },
      "source": [
        "str = 'hollywood'\n",
        "print(str.islower())"
      ],
      "execution_count": 19,
      "outputs": [
        {
          "output_type": "stream",
          "text": [
            "True\n"
          ],
          "name": "stdout"
        }
      ]
    },
    {
      "cell_type": "code",
      "metadata": {
        "id": "Zv0u-lwYOeXm",
        "colab_type": "code",
        "colab": {
          "base_uri": "https://localhost:8080/",
          "height": 51
        },
        "outputId": "41935b53-aff5-4bdb-8215-8e5eb955b0ca"
      },
      "source": [
        "str = '01234568461321'\n",
        "print(str.isnumeric())\n",
        "\n",
        "str = '01234568461a321'\n",
        "print(str.isnumeric())"
      ],
      "execution_count": 20,
      "outputs": [
        {
          "output_type": "stream",
          "text": [
            "True\n",
            "False\n"
          ],
          "name": "stdout"
        }
      ]
    },
    {
      "cell_type": "code",
      "metadata": {
        "id": "5UOVsgFVOirO",
        "colab_type": "code",
        "colab": {
          "base_uri": "https://localhost:8080/",
          "height": 51
        },
        "outputId": "4bf64976-04b8-42de-8cd0-67ca9d82c92b"
      },
      "source": [
        "str = '01234568461321'\n",
        "print(str.isprintable())\n",
        "\n",
        "str = '\\n 01234568461321rgsdfg'\n",
        "print(str.isprintable())"
      ],
      "execution_count": 21,
      "outputs": [
        {
          "output_type": "stream",
          "text": [
            "True\n",
            "False\n"
          ],
          "name": "stdout"
        }
      ]
    },
    {
      "cell_type": "code",
      "metadata": {
        "id": "MKwsV2DhOqED",
        "colab_type": "code",
        "colab": {
          "base_uri": "https://localhost:8080/",
          "height": 34
        },
        "outputId": "bb9d8887-e5ec-4ba8-cd1f-51f26a1c78b9"
      },
      "source": [
        "str = ' '\n",
        "print(str.isspace())"
      ],
      "execution_count": 22,
      "outputs": [
        {
          "output_type": "stream",
          "text": [
            "True\n"
          ],
          "name": "stdout"
        }
      ]
    },
    {
      "cell_type": "code",
      "metadata": {
        "id": "9Z07yIZROuNJ",
        "colab_type": "code",
        "colab": {
          "base_uri": "https://localhost:8080/",
          "height": 51
        },
        "outputId": "0846a54f-5ad5-4b15-97d5-f54a02293a1b"
      },
      "source": [
        "str = 'Umar'\n",
        "print(str.istitle())\n",
        "\n",
        "str = 'umar'\n",
        "print(str.istitle())"
      ],
      "execution_count": 24,
      "outputs": [
        {
          "output_type": "stream",
          "text": [
            "True\n",
            "False\n"
          ],
          "name": "stdout"
        }
      ]
    },
    {
      "cell_type": "code",
      "metadata": {
        "id": "Rr9ZqV3TOxzK",
        "colab_type": "code",
        "colab": {
          "base_uri": "https://localhost:8080/",
          "height": 51
        },
        "outputId": "d8b5c683-dd0c-4191-e1b6-1fdee18a7da3"
      },
      "source": [
        "str = 'Umar'\n",
        "print(str.isupper())\n",
        "\n",
        "str = 'UMAR'\n",
        "print(str.isupper())"
      ],
      "execution_count": 25,
      "outputs": [
        {
          "output_type": "stream",
          "text": [
            "False\n",
            "True\n"
          ],
          "name": "stdout"
        }
      ]
    },
    {
      "cell_type": "code",
      "metadata": {
        "id": "89-eGpFpO_fr",
        "colab_type": "code",
        "colab": {
          "base_uri": "https://localhost:8080/",
          "height": 34
        },
        "outputId": "c3b331f5-dfa2-4c46-ae5c-3e81502d2cd8"
      },
      "source": [
        "str = 'umar malik'\n",
        "s = '-'\n",
        "print(s.join(str))"
      ],
      "execution_count": 26,
      "outputs": [
        {
          "output_type": "stream",
          "text": [
            "u-m-a-r- -m-a-l-i-k\n"
          ],
          "name": "stdout"
        }
      ]
    },
    {
      "cell_type": "code",
      "metadata": {
        "id": "mfIbnMIOPHzB",
        "colab_type": "code",
        "colab": {
          "base_uri": "https://localhost:8080/",
          "height": 34
        },
        "outputId": "9dc50417-46ab-47e0-96ef-801aa36bffd5"
      },
      "source": [
        "str = \"....wow!!!\";\n",
        "print (str.ljust(50, '0'))"
      ],
      "execution_count": 27,
      "outputs": [
        {
          "output_type": "stream",
          "text": [
            "....wow!!!0000000000000000000000000000000000000000\n"
          ],
          "name": "stdout"
        }
      ]
    },
    {
      "cell_type": "code",
      "metadata": {
        "id": "JszHW4Y5PLm6",
        "colab_type": "code",
        "colab": {
          "base_uri": "https://localhost:8080/",
          "height": 34
        },
        "outputId": "17f32912-188c-4245-ea8f-445e53b496cd"
      },
      "source": [
        "str = 'Umar'\n",
        "print(str.lower())"
      ],
      "execution_count": 28,
      "outputs": [
        {
          "output_type": "stream",
          "text": [
            "umar\n"
          ],
          "name": "stdout"
        }
      ]
    },
    {
      "cell_type": "code",
      "metadata": {
        "id": "AUfCMvDDPR4L",
        "colab_type": "code",
        "colab": {
          "base_uri": "https://localhost:8080/",
          "height": 51
        },
        "outputId": "9891b2a9-10a6-49b9-9607-6d0608f79b00"
      },
      "source": [
        "str = '    Umar malik'\n",
        "print(str)\n",
        "print(str.lstrip())"
      ],
      "execution_count": 29,
      "outputs": [
        {
          "output_type": "stream",
          "text": [
            "    Umar malik\n",
            "Umar malik\n"
          ],
          "name": "stdout"
        }
      ]
    },
    {
      "cell_type": "code",
      "metadata": {
        "id": "WC9pv6YpPXNK",
        "colab_type": "code",
        "colab": {
          "base_uri": "https://localhost:8080/",
          "height": 51
        },
        "outputId": "e5ea21d9-87c1-41fa-e5ac-25324ee20487"
      },
      "source": [
        "dict = {\"a\": \"123\", \"b\": \"456\", \"c\": \"789\"}\n",
        "string = \"abc\"\n",
        "print(string.maketrans(dict))\n",
        "\n",
        "firstString = \"abc\"\n",
        "secondString = \"def\"\n",
        "string = \"abc\"\n",
        "print(string.maketrans(firstString, secondString))"
      ],
      "execution_count": 30,
      "outputs": [
        {
          "output_type": "stream",
          "text": [
            "{97: '123', 98: '456', 99: '789'}\n",
            "{97: 100, 98: 101, 99: 102}\n"
          ],
          "name": "stdout"
        }
      ]
    },
    {
      "cell_type": "code",
      "metadata": {
        "id": "XcJhDIvxPgYf",
        "colab_type": "code",
        "colab": {
          "base_uri": "https://localhost:8080/",
          "height": 51
        },
        "outputId": "2232bcd6-2cf5-4ab7-d4f2-571e8f87bbef"
      },
      "source": [
        "str = 'Umar malik'\n",
        "seperator = ' '\n",
        "print(str)\n",
        "print(str.partition(seperator))"
      ],
      "execution_count": 31,
      "outputs": [
        {
          "output_type": "stream",
          "text": [
            "Umar malik\n",
            "('Umar', ' ', 'malik')\n"
          ],
          "name": "stdout"
        }
      ]
    },
    {
      "cell_type": "code",
      "metadata": {
        "id": "wOoT10nVPl7H",
        "colab_type": "code",
        "colab": {
          "base_uri": "https://localhost:8080/",
          "height": 51
        },
        "outputId": "5a561014-495f-44e3-94fc-6ecd94345b16"
      },
      "source": [
        "str = 'Umar malik'\n",
        "print(str)\n",
        "print(str.replace('malik','MALIK',1))"
      ],
      "execution_count": 32,
      "outputs": [
        {
          "output_type": "stream",
          "text": [
            "Umar malik\n",
            "Umar MALIK\n"
          ],
          "name": "stdout"
        }
      ]
    },
    {
      "cell_type": "code",
      "metadata": {
        "id": "MmospFGwPvrK",
        "colab_type": "code",
        "colab": {
          "base_uri": "https://localhost:8080/",
          "height": 34
        },
        "outputId": "5dbca2dd-81dd-4dc6-ba48-7305ff6119fe"
      },
      "source": [
        "quote = 'Let it be, let it be, let it be'\n",
        "\n",
        "result = quote.rfind('let it')\n",
        "print(\"Substring 'let it':\", result)"
      ],
      "execution_count": 33,
      "outputs": [
        {
          "output_type": "stream",
          "text": [
            "Substring 'let it': 22\n"
          ],
          "name": "stdout"
        }
      ]
    },
    {
      "cell_type": "code",
      "metadata": {
        "id": "GwusHT9RQMEI",
        "colab_type": "code",
        "colab": {
          "base_uri": "https://localhost:8080/",
          "height": 34
        },
        "outputId": "791449ab-f280-41a6-cadf-800a90e217c7"
      },
      "source": [
        "quote = 'Let it be, let it be, let it be'\n",
        "\n",
        "result = quote.rindex('let it')\n",
        "print(\"Substring 'let it':\", result)"
      ],
      "execution_count": 34,
      "outputs": [
        {
          "output_type": "stream",
          "text": [
            "Substring 'let it': 22\n"
          ],
          "name": "stdout"
        }
      ]
    },
    {
      "cell_type": "code",
      "metadata": {
        "id": "X9TdezhtQgjw",
        "colab_type": "code",
        "colab": {
          "base_uri": "https://localhost:8080/",
          "height": 34
        },
        "outputId": "44a6f62d-6c7b-4c9a-9fea-da0a0e4ba076"
      },
      "source": [
        "str = \"!!!wow!!!\";\n",
        "print (str.rjust(50, '*'))"
      ],
      "execution_count": 35,
      "outputs": [
        {
          "output_type": "stream",
          "text": [
            "*****************************************!!!wow!!!\n"
          ],
          "name": "stdout"
        }
      ]
    },
    {
      "cell_type": "code",
      "metadata": {
        "id": "wBw1NYdtQqBv",
        "colab_type": "code",
        "colab": {
          "base_uri": "https://localhost:8080/",
          "height": 34
        },
        "outputId": "d6f917ec-bd63-48be-bc2c-0ed687c8fc39"
      },
      "source": [
        "str = 'my name is umar'\n",
        "print(str.rpartition(\"is\"))"
      ],
      "execution_count": 37,
      "outputs": [
        {
          "output_type": "stream",
          "text": [
            "('my name ', 'is', ' umar')\n"
          ],
          "name": "stdout"
        }
      ]
    },
    {
      "cell_type": "code",
      "metadata": {
        "id": "nps8YZOrQt3M",
        "colab_type": "code",
        "colab": {
          "base_uri": "https://localhost:8080/",
          "height": 51
        },
        "outputId": "a9e92d37-96b6-4ff4-dfc5-0ae21be977f4"
      },
      "source": [
        "str = 'my name is umar                                '\n",
        "print(str)\n",
        "print(str.rstrip())"
      ],
      "execution_count": 38,
      "outputs": [
        {
          "output_type": "stream",
          "text": [
            "my name is umar                                \n",
            "my name is umar\n"
          ],
          "name": "stdout"
        }
      ]
    },
    {
      "cell_type": "code",
      "metadata": {
        "id": "LUNQbJFAQ5Dw",
        "colab_type": "code",
        "colab": {
          "base_uri": "https://localhost:8080/",
          "height": 34
        },
        "outputId": "7649047a-2b75-45b9-c060-416f4aff71a4"
      },
      "source": [
        "str = 'my name is umar'\n",
        "print(str.split(\"is\"))"
      ],
      "execution_count": 39,
      "outputs": [
        {
          "output_type": "stream",
          "text": [
            "['my name ', ' umar']\n"
          ],
          "name": "stdout"
        }
      ]
    },
    {
      "cell_type": "code",
      "metadata": {
        "id": "TpncvRqVRARg",
        "colab_type": "code",
        "colab": {
          "base_uri": "https://localhost:8080/",
          "height": 68
        },
        "outputId": "35d45440-558a-4c22-f42c-8587ec579ec4"
      },
      "source": [
        "str = 'my name is \\n umar'\n",
        "print(str)\n",
        "print(str.splitlines(5))"
      ],
      "execution_count": 40,
      "outputs": [
        {
          "output_type": "stream",
          "text": [
            "my name is \n",
            " umar\n",
            "['my name is \\n', ' umar']\n"
          ],
          "name": "stdout"
        }
      ]
    },
    {
      "cell_type": "code",
      "metadata": {
        "id": "wtSQ9diDRGJL",
        "colab_type": "code",
        "colab": {
          "base_uri": "https://localhost:8080/",
          "height": 34
        },
        "outputId": "6d79e250-2bbe-4c28-fb3f-13ea402bee03"
      },
      "source": [
        "str = 'my name is umar'\n",
        "print(str.startswith(\"my\"))"
      ],
      "execution_count": 41,
      "outputs": [
        {
          "output_type": "stream",
          "text": [
            "True\n"
          ],
          "name": "stdout"
        }
      ]
    },
    {
      "cell_type": "code",
      "metadata": {
        "id": "QqlW4z97RNOx",
        "colab_type": "code",
        "colab": {
          "base_uri": "https://localhost:8080/",
          "height": 51
        },
        "outputId": "a280a184-1e10-46aa-fa1c-ac9402c93f95"
      },
      "source": [
        "str = '                               my name is umar                                       '\n",
        "print(str)\n",
        "print(str.strip())"
      ],
      "execution_count": 42,
      "outputs": [
        {
          "output_type": "stream",
          "text": [
            "                               my name is umar                                       \n",
            "my name is umar\n"
          ],
          "name": "stdout"
        }
      ]
    },
    {
      "cell_type": "code",
      "metadata": {
        "id": "8Z-7rnRqRdTW",
        "colab_type": "code",
        "colab": {
          "base_uri": "https://localhost:8080/",
          "height": 34
        },
        "outputId": "d32166e6-533f-46d6-a278-ff8ba430dbf4"
      },
      "source": [
        "str = 'my name is umar'\n",
        "print(str.swapcase())"
      ],
      "execution_count": 43,
      "outputs": [
        {
          "output_type": "stream",
          "text": [
            "MY NAME IS UMAR\n"
          ],
          "name": "stdout"
        }
      ]
    },
    {
      "cell_type": "code",
      "metadata": {
        "id": "yZoGp6JERpDe",
        "colab_type": "code",
        "colab": {
          "base_uri": "https://localhost:8080/",
          "height": 34
        },
        "outputId": "ad0429d3-074f-4b1e-b201-ae0f3b58372c"
      },
      "source": [
        "str = 'my name is umar'\n",
        "print(str.title())"
      ],
      "execution_count": 44,
      "outputs": [
        {
          "output_type": "stream",
          "text": [
            "My Name Is Umar\n"
          ],
          "name": "stdout"
        }
      ]
    },
    {
      "cell_type": "code",
      "metadata": {
        "id": "dpTfT36vRwve",
        "colab_type": "code",
        "colab": {
          "base_uri": "https://localhost:8080/",
          "height": 51
        },
        "outputId": "72425148-a9c4-4321-f989-8ac4f806f848"
      },
      "source": [
        "# Python 3 Program to show working \n",
        "# of translate() method \n",
        "  \n",
        "# specifying the mapping   \n",
        "# using ASCII   \n",
        "translation = {103: None, 101: None, 101: None} \n",
        "  \n",
        "string = \"geeks\"\n",
        "print(\"Original string:\", string) \n",
        "  \n",
        "# translate string \n",
        "print(\"Translated string:\",  \n",
        "       string.translate(translation))"
      ],
      "execution_count": 45,
      "outputs": [
        {
          "output_type": "stream",
          "text": [
            "Original string: geeks\n",
            "Translated string: ks\n"
          ],
          "name": "stdout"
        }
      ]
    },
    {
      "cell_type": "code",
      "metadata": {
        "id": "Tbs1MUgZR2nT",
        "colab_type": "code",
        "colab": {
          "base_uri": "https://localhost:8080/",
          "height": 34
        },
        "outputId": "47cad92e-33dc-45ce-c0f5-c9821fd0740b"
      },
      "source": [
        "str = 'my name is umar'\n",
        "print(str.upper())"
      ],
      "execution_count": 46,
      "outputs": [
        {
          "output_type": "stream",
          "text": [
            "MY NAME IS UMAR\n"
          ],
          "name": "stdout"
        }
      ]
    },
    {
      "cell_type": "code",
      "metadata": {
        "id": "U2GrhHb4SEdM",
        "colab_type": "code",
        "colab": {
          "base_uri": "https://localhost:8080/",
          "height": 34
        },
        "outputId": "8aa6da61-1d2d-4c1d-e9b5-f68c04d5a603"
      },
      "source": [
        "str =  ' my name is umar'\n",
        "print(str.zfill(50))"
      ],
      "execution_count": 47,
      "outputs": [
        {
          "output_type": "stream",
          "text": [
            "0000000000000000000000000000000000 my name is umar\n"
          ],
          "name": "stdout"
        }
      ]
    },
    {
      "cell_type": "code",
      "metadata": {
        "id": "lJAAkwAPSfve",
        "colab_type": "code",
        "colab": {
          "base_uri": "https://localhost:8080/",
          "height": 34
        },
        "outputId": "837c76af-cc86-4523-b8c2-4834dcde053f"
      },
      "source": [
        "9+8*2/2**2+(7-3)*7"
      ],
      "execution_count": 49,
      "outputs": [
        {
          "output_type": "execute_result",
          "data": {
            "text/plain": [
              "41.0"
            ]
          },
          "metadata": {
            "tags": []
          },
          "execution_count": 49
        }
      ]
    },
    {
      "cell_type": "code",
      "metadata": {
        "id": "TDGGVqOKSmQd",
        "colab_type": "code",
        "colab": {
          "base_uri": "https://localhost:8080/",
          "height": 34
        },
        "outputId": "c0d34d6d-340e-4ca6-c60a-24b7cdfa3682"
      },
      "source": [
        "9+8*2/2*7"
      ],
      "execution_count": 50,
      "outputs": [
        {
          "output_type": "execute_result",
          "data": {
            "text/plain": [
              "65.0"
            ]
          },
          "metadata": {
            "tags": []
          },
          "execution_count": 50
        }
      ]
    },
    {
      "cell_type": "code",
      "metadata": {
        "id": "I1VMrsWjSo-9",
        "colab_type": "code",
        "colab": {
          "base_uri": "https://localhost:8080/",
          "height": 34
        },
        "outputId": "906e4902-7fad-4a94-b7ce-c62a6d7d03d5"
      },
      "source": [
        "9+(7-3)*7"
      ],
      "execution_count": 51,
      "outputs": [
        {
          "output_type": "execute_result",
          "data": {
            "text/plain": [
              "37"
            ]
          },
          "metadata": {
            "tags": []
          },
          "execution_count": 51
        }
      ]
    },
    {
      "cell_type": "code",
      "metadata": {
        "id": "icis-YxKSrpD",
        "colab_type": "code",
        "colab": {
          "base_uri": "https://localhost:8080/",
          "height": 34
        },
        "outputId": "f801342b-136a-4b26-95fd-d3a060530811"
      },
      "source": [
        "10+800*2/4**2+(51-3)*7"
      ],
      "execution_count": 52,
      "outputs": [
        {
          "output_type": "execute_result",
          "data": {
            "text/plain": [
              "446.0"
            ]
          },
          "metadata": {
            "tags": []
          },
          "execution_count": 52
        }
      ]
    },
    {
      "cell_type": "code",
      "metadata": {
        "id": "JF8ljoPPSuIp",
        "colab_type": "code",
        "colab": {
          "base_uri": "https://localhost:8080/",
          "height": 34
        },
        "outputId": "86fe4e32-77a0-40c6-bf29-7e290fd958bf"
      },
      "source": [
        "10+800*7"
      ],
      "execution_count": 53,
      "outputs": [
        {
          "output_type": "execute_result",
          "data": {
            "text/plain": [
              "5610"
            ]
          },
          "metadata": {
            "tags": []
          },
          "execution_count": 53
        }
      ]
    },
    {
      "cell_type": "code",
      "metadata": {
        "id": "-WTfhmxgSxiA",
        "colab_type": "code",
        "colab": {
          "base_uri": "https://localhost:8080/",
          "height": 34
        },
        "outputId": "49ca84e6-1778-42c1-84cf-4b018c52f11a"
      },
      "source": [
        "2/4**2+(51-3)*7"
      ],
      "execution_count": 54,
      "outputs": [
        {
          "output_type": "execute_result",
          "data": {
            "text/plain": [
              "336.125"
            ]
          },
          "metadata": {
            "tags": []
          },
          "execution_count": 54
        }
      ]
    },
    {
      "cell_type": "code",
      "metadata": {
        "id": "JRm23W5-S2p6",
        "colab_type": "code",
        "colab": {
          "base_uri": "https://localhost:8080/",
          "height": 34
        },
        "outputId": "3abf269b-1c7a-47e9-8855-17d1f573181b"
      },
      "source": [
        "10+800*2/4**7"
      ],
      "execution_count": 55,
      "outputs": [
        {
          "output_type": "execute_result",
          "data": {
            "text/plain": [
              "10.09765625"
            ]
          },
          "metadata": {
            "tags": []
          },
          "execution_count": 55
        }
      ]
    },
    {
      "cell_type": "code",
      "metadata": {
        "id": "rjaurhXyS7eT",
        "colab_type": "code",
        "colab": {
          "base_uri": "https://localhost:8080/",
          "height": 34
        },
        "outputId": "92c8a9ce-62c3-46d4-8935-5043af2783bd"
      },
      "source": [
        "10+80*2/4**7"
      ],
      "execution_count": 56,
      "outputs": [
        {
          "output_type": "execute_result",
          "data": {
            "text/plain": [
              "10.009765625"
            ]
          },
          "metadata": {
            "tags": []
          },
          "execution_count": 56
        }
      ]
    },
    {
      "cell_type": "code",
      "metadata": {
        "id": "7Hwh1JdgS-Zx",
        "colab_type": "code",
        "colab": {
          "base_uri": "https://localhost:8080/",
          "height": 34
        },
        "outputId": "029c24b4-5148-4861-aa7d-475502defb90"
      },
      "source": [
        "10-20*0-800*2/4**7"
      ],
      "execution_count": 57,
      "outputs": [
        {
          "output_type": "execute_result",
          "data": {
            "text/plain": [
              "9.90234375"
            ]
          },
          "metadata": {
            "tags": []
          },
          "execution_count": 57
        }
      ]
    },
    {
      "cell_type": "code",
      "metadata": {
        "id": "2cVdstFITHev",
        "colab_type": "code",
        "colab": {
          "base_uri": "https://localhost:8080/",
          "height": 34
        },
        "outputId": "2ee484d5-e371-4d2e-bb78-b866c7e73339"
      },
      "source": [
        "5/4*4+45+1/5+5**4"
      ],
      "execution_count": 58,
      "outputs": [
        {
          "output_type": "execute_result",
          "data": {
            "text/plain": [
              "675.2"
            ]
          },
          "metadata": {
            "tags": []
          },
          "execution_count": 58
        }
      ]
    },
    {
      "cell_type": "code",
      "metadata": {
        "id": "HzJN3rgjTKQj",
        "colab_type": "code",
        "colab": {
          "base_uri": "https://localhost:8080/",
          "height": 34
        },
        "outputId": "c435c8fd-276c-4472-fd47-99e0139561d4"
      },
      "source": [
        "186*4-41**4+464"
      ],
      "execution_count": 59,
      "outputs": [
        {
          "output_type": "execute_result",
          "data": {
            "text/plain": [
              "-2824553"
            ]
          },
          "metadata": {
            "tags": []
          },
          "execution_count": 59
        }
      ]
    },
    {
      "cell_type": "code",
      "metadata": {
        "id": "25P__ktuTNKm",
        "colab_type": "code",
        "colab": {
          "base_uri": "https://localhost:8080/",
          "height": 34
        },
        "outputId": "2ce5bd3d-9646-4661-ec80-0472b7d940e4"
      },
      "source": [
        "59**6-46+0"
      ],
      "execution_count": 60,
      "outputs": [
        {
          "output_type": "execute_result",
          "data": {
            "text/plain": [
              "42180533595"
            ]
          },
          "metadata": {
            "tags": []
          },
          "execution_count": 60
        }
      ]
    },
    {
      "cell_type": "code",
      "metadata": {
        "id": "jwvz20efTRtM",
        "colab_type": "code",
        "colab": {
          "base_uri": "https://localhost:8080/",
          "height": 34
        },
        "outputId": "9234e641-c8e3-488d-9160-deaa78459084"
      },
      "source": [
        "10+800*2/4*4*4*4*7"
      ],
      "execution_count": 61,
      "outputs": [
        {
          "output_type": "execute_result",
          "data": {
            "text/plain": [
              "179210.0"
            ]
          },
          "metadata": {
            "tags": []
          },
          "execution_count": 61
        }
      ]
    },
    {
      "cell_type": "code",
      "metadata": {
        "id": "fOycrZMcTc3t",
        "colab_type": "code",
        "colab": {
          "base_uri": "https://localhost:8080/",
          "height": 34
        },
        "outputId": "87deb4db-86c2-43ae-ccb8-f568185f0505"
      },
      "source": [
        "10+800*2/4*4/4+5+9+8-7-0"
      ],
      "execution_count": 62,
      "outputs": [
        {
          "output_type": "execute_result",
          "data": {
            "text/plain": [
              "425.0"
            ]
          },
          "metadata": {
            "tags": []
          },
          "execution_count": 62
        }
      ]
    },
    {
      "cell_type": "code",
      "metadata": {
        "id": "diBVDIQ1ThmX",
        "colab_type": "code",
        "colab": {
          "base_uri": "https://localhost:8080/",
          "height": 34
        },
        "outputId": "4c0f7af8-b397-40fa-c85b-129edabecd98"
      },
      "source": [
        "464/464*464-464+5645**4"
      ],
      "execution_count": 63,
      "outputs": [
        {
          "output_type": "execute_result",
          "data": {
            "text/plain": [
              "1015443549300625.0"
            ]
          },
          "metadata": {
            "tags": []
          },
          "execution_count": 63
        }
      ]
    },
    {
      "cell_type": "code",
      "metadata": {
        "id": "tqfOW12uTmNZ",
        "colab_type": "code",
        "colab": {
          "base_uri": "https://localhost:8080/",
          "height": 34
        },
        "outputId": "0eada6fe-169d-4c91-fdac-34c4a0925f9f"
      },
      "source": [
        "54325*524*-25254413+441234123/4"
      ],
      "execution_count": 64,
      "outputs": [
        {
          "output_type": "execute_result",
          "data": {
            "text/plain": [
              "-718899586473369.2"
            ]
          },
          "metadata": {
            "tags": []
          },
          "execution_count": 64
        }
      ]
    },
    {
      "cell_type": "code",
      "metadata": {
        "id": "HWRfQpjjTpuC",
        "colab_type": "code",
        "colab": {
          "base_uri": "https://localhost:8080/",
          "height": 34
        },
        "outputId": "f504d42f-1545-4ad2-eee3-b1bec4262fa3"
      },
      "source": [
        "5+5+5/2"
      ],
      "execution_count": 65,
      "outputs": [
        {
          "output_type": "execute_result",
          "data": {
            "text/plain": [
              "12.5"
            ]
          },
          "metadata": {
            "tags": []
          },
          "execution_count": 65
        }
      ]
    },
    {
      "cell_type": "code",
      "metadata": {
        "id": "9D6xiUjkTtSx",
        "colab_type": "code",
        "colab": {
          "base_uri": "https://localhost:8080/",
          "height": 34
        },
        "outputId": "a082a468-bf03-4f92-fa45-d7b1f85800d9"
      },
      "source": [
        "4/4+1-2"
      ],
      "execution_count": 66,
      "outputs": [
        {
          "output_type": "execute_result",
          "data": {
            "text/plain": [
              "0.0"
            ]
          },
          "metadata": {
            "tags": []
          },
          "execution_count": 66
        }
      ]
    },
    {
      "cell_type": "code",
      "metadata": {
        "id": "2vdHl2mlUWn8",
        "colab_type": "code",
        "colab": {}
      },
      "source": [
        ""
      ],
      "execution_count": 0,
      "outputs": []
    }
  ]
}